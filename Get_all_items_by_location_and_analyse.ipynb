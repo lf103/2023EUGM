{
  "nbformat": 4,
  "nbformat_minor": 0,
  "metadata": {
    "colab": {
      "provenance": [],
      "collapsed_sections": [
        "L8tBfrAE1lWH"
      ],
      "include_colab_link": true
    },
    "kernelspec": {
      "name": "python3",
      "display_name": "Python 3"
    },
    "language_info": {
      "name": "python"
    }
  },
  "cells": [
    {
      "cell_type": "markdown",
      "metadata": {
        "id": "view-in-github",
        "colab_type": "text"
      },
      "source": [
        "<a href=\"https://colab.research.google.com/github/lf103/2023EUGM/blob/main/Get_all_items_by_location_and_analyse.ipynb\" target=\"_parent\"><img src=\"https://colab.research.google.com/assets/colab-badge.svg\" alt=\"Open In Colab\"/></a>"
      ]
    },
    {
      "cell_type": "markdown",
      "source": [
        "# Get all items by location, analyse and save to Excel\n",
        "\n",
        "This notebook fecthes all items for a range of locations and saves slected fields to a multi-sheet Excel spreadsheet where items are distributed into separate sheets by location."
      ],
      "metadata": {
        "id": "uzq7dzVGtKf3"
      }
    },
    {
      "cell_type": "markdown",
      "source": [
        "## Preparations"
      ],
      "metadata": {
        "id": "IEqMCq1l1Mio"
      }
    },
    {
      "cell_type": "markdown",
      "source": [
        "### Install modules\n",
        "Most modules that we will use are already installed on Google Colab. The below we need to actively install."
      ],
      "metadata": {
        "id": "UZqGFlEU1Tlc"
      }
    },
    {
      "cell_type": "code",
      "source": [
        "# We will use folioclient to communicate with FOLIO: https://pypi.org/project/folioclient/\n",
        "\n",
        "!pip install folioclient"
      ],
      "metadata": {
        "id": "3ieL4TvuJf8T",
        "colab": {
          "base_uri": "https://localhost:8080/"
        },
        "outputId": "9fc34687-aa7d-47de-ff1c-49cc303bd1ed"
      },
      "execution_count": null,
      "outputs": [
        {
          "output_type": "stream",
          "name": "stdout",
          "text": [
            "Looking in indexes: https://pypi.org/simple, https://us-python.pkg.dev/colab-wheels/public/simple/\n",
            "Collecting folioclient\n",
            "  Downloading folioclient-0.39-py3-none-any.whl (7.0 kB)\n",
            "Requirement already satisfied: requests in /usr/local/lib/python3.7/dist-packages (from folioclient) (2.23.0)\n",
            "  Downloading folioclient-0.38.tar.gz (5.6 kB)\n",
            "Requirement already satisfied: urllib3!=1.25.0,!=1.25.1,<1.26,>=1.21.1 in /usr/local/lib/python3.7/dist-packages (from requests->folioclient) (1.24.3)\n",
            "Requirement already satisfied: certifi>=2017.4.17 in /usr/local/lib/python3.7/dist-packages (from requests->folioclient) (2022.6.15)\n",
            "Requirement already satisfied: idna<3,>=2.5 in /usr/local/lib/python3.7/dist-packages (from requests->folioclient) (2.10)\n",
            "Requirement already satisfied: chardet<4,>=3.0.2 in /usr/local/lib/python3.7/dist-packages (from requests->folioclient) (3.0.4)\n",
            "Building wheels for collected packages: folioclient\n",
            "  Building wheel for folioclient (setup.py) ... \u001b[?25l\u001b[?25hdone\n",
            "  Created wheel for folioclient: filename=folioclient-0.38-py3-none-any.whl size=6093 sha256=5932e20d1cd802839c0591db28d19a4f51eb6e1f391a15f64a5d4ccaf4867add\n",
            "  Stored in directory: /root/.cache/pip/wheels/3c/0c/43/2d4451e80897e767d5eb271110e86a716966dd9a7e88aa45ce\n",
            "Successfully built folioclient\n",
            "Installing collected packages: folioclient\n",
            "Successfully installed folioclient-0.38\n"
          ]
        }
      ]
    },
    {
      "cell_type": "code",
      "source": [
        "# We will use xlsxwriter to create Excel files: https://pypi.org/project/XlsxWriter/ \n",
        "\n",
        "!pip install xlsxwriter"
      ],
      "metadata": {
        "id": "d-PUpoyly20S",
        "colab": {
          "base_uri": "https://localhost:8080/"
        },
        "outputId": "2157e40a-d773-4d10-ce1b-6808b713f788"
      },
      "execution_count": null,
      "outputs": [
        {
          "output_type": "stream",
          "name": "stdout",
          "text": [
            "Looking in indexes: https://pypi.org/simple, https://us-python.pkg.dev/colab-wheels/public/simple/\n",
            "Collecting xlsxwriter\n",
            "  Downloading XlsxWriter-3.0.3-py3-none-any.whl (149 kB)\n",
            "\u001b[K     |████████████████████████████████| 149 kB 13.1 MB/s \n",
            "\u001b[?25hInstalling collected packages: xlsxwriter\n",
            "Successfully installed xlsxwriter-3.0.3\n"
          ]
        }
      ]
    },
    {
      "cell_type": "markdown",
      "source": [
        "### Import modules\n",
        "Modules that are installed need to be imported, so that we can access them in our code."
      ],
      "metadata": {
        "id": "L8tBfrAE1lWH"
      }
    },
    {
      "metadata": {
        "id": "CjzimUZqDf39"
      },
      "cell_type": "code",
      "source": [
        "import pandas\n",
        "from pandas import json_normalize\n",
        "from folioclient import FolioClient\n",
        "from getpass import getpass\n",
        "from google.colab import files"
      ],
      "execution_count": null,
      "outputs": []
    },
    {
      "cell_type": "markdown",
      "source": [
        "## Connect to FOLIO\n",
        "We log into FOLIO by providing the okapi URL and the tenant ID, as well as the username and password of a FOLIO user. FOLIO will return a token which contains information about which user we are acting as, and what permissions that user has.\n",
        "\n",
        "Note that tokens and passwords are sensitive data which should always be kept secret and secure."
      ],
      "metadata": {
        "id": "Er-4h3Ql1uHJ"
      }
    },
    {
      "cell_type": "markdown",
      "source": [
        "### Provide tenant information and credentials"
      ],
      "metadata": {
        "id": "br2a7ABsQmJA"
      }
    },
    {
      "cell_type": "code",
      "source": [
        "okapi_url = input(\"Enter your okapi URL here: \")\n",
        "tenant_id = input(\"Enter your tenant ID here: \")\n",
        "\n",
        "# The getpass module lets us enter credentials at runtime\n",
        "username = getpass('Enter usernme here: ')\n",
        "password = getpass('Enter password here: ')\n"
      ],
      "metadata": {
        "id": "OvJQd36qQrvu",
        "colab": {
          "base_uri": "https://localhost:8080/",
          "height": 414
        },
        "outputId": "a6a1d3c4-dbed-41c0-f4f7-3d14d40b449f"
      },
      "execution_count": null,
      "outputs": [
        {
          "name": "stdout",
          "output_type": "stream",
          "text": [
            "Enter your okapi URL here: folio\n",
            "Enter your tenant ID here: folio\n"
          ]
        },
        {
          "output_type": "error",
          "ename": "KeyboardInterrupt",
          "evalue": "ignored",
          "traceback": [
            "\u001b[0;31m---------------------------------------------------------------------------\u001b[0m",
            "\u001b[0;31mKeyboardInterrupt\u001b[0m                         Traceback (most recent call last)",
            "\u001b[0;32m<ipython-input-4-b8fc7a74cffe>\u001b[0m in \u001b[0;36m<module>\u001b[0;34m\u001b[0m\n\u001b[1;32m      3\u001b[0m \u001b[0;34m\u001b[0m\u001b[0m\n\u001b[1;32m      4\u001b[0m \u001b[0;31m# The getpass module lets us enter credentials at runtime\u001b[0m\u001b[0;34m\u001b[0m\u001b[0;34m\u001b[0m\u001b[0;34m\u001b[0m\u001b[0m\n\u001b[0;32m----> 5\u001b[0;31m \u001b[0musername\u001b[0m \u001b[0;34m=\u001b[0m \u001b[0mgetpass\u001b[0m\u001b[0;34m(\u001b[0m\u001b[0;34m'Enter usernme here: '\u001b[0m\u001b[0;34m)\u001b[0m\u001b[0;34m\u001b[0m\u001b[0;34m\u001b[0m\u001b[0m\n\u001b[0m\u001b[1;32m      6\u001b[0m \u001b[0mpassword\u001b[0m \u001b[0;34m=\u001b[0m \u001b[0mgetpass\u001b[0m\u001b[0;34m(\u001b[0m\u001b[0;34m'Enter password here: '\u001b[0m\u001b[0;34m)\u001b[0m\u001b[0;34m\u001b[0m\u001b[0;34m\u001b[0m\u001b[0m\n",
            "\u001b[0;32m/usr/local/lib/python3.7/dist-packages/ipykernel/kernelbase.py\u001b[0m in \u001b[0;36mgetpass\u001b[0;34m(self, prompt, stream)\u001b[0m\n\u001b[1;32m    844\u001b[0m             \u001b[0mself\u001b[0m\u001b[0;34m.\u001b[0m\u001b[0m_parent_ident\u001b[0m\u001b[0;34m,\u001b[0m\u001b[0;34m\u001b[0m\u001b[0;34m\u001b[0m\u001b[0m\n\u001b[1;32m    845\u001b[0m             \u001b[0mself\u001b[0m\u001b[0;34m.\u001b[0m\u001b[0m_parent_header\u001b[0m\u001b[0;34m,\u001b[0m\u001b[0;34m\u001b[0m\u001b[0;34m\u001b[0m\u001b[0m\n\u001b[0;32m--> 846\u001b[0;31m             \u001b[0mpassword\u001b[0m\u001b[0;34m=\u001b[0m\u001b[0;32mTrue\u001b[0m\u001b[0;34m,\u001b[0m\u001b[0;34m\u001b[0m\u001b[0;34m\u001b[0m\u001b[0m\n\u001b[0m\u001b[1;32m    847\u001b[0m         )\n\u001b[1;32m    848\u001b[0m \u001b[0;34m\u001b[0m\u001b[0m\n",
            "\u001b[0;32m/usr/local/lib/python3.7/dist-packages/ipykernel/kernelbase.py\u001b[0m in \u001b[0;36m_input_request\u001b[0;34m(self, prompt, ident, parent, password)\u001b[0m\n\u001b[1;32m    902\u001b[0m             \u001b[0;32mexcept\u001b[0m \u001b[0mKeyboardInterrupt\u001b[0m\u001b[0;34m:\u001b[0m\u001b[0;34m\u001b[0m\u001b[0;34m\u001b[0m\u001b[0m\n\u001b[1;32m    903\u001b[0m                 \u001b[0;31m# re-raise KeyboardInterrupt, to truncate traceback\u001b[0m\u001b[0;34m\u001b[0m\u001b[0;34m\u001b[0m\u001b[0;34m\u001b[0m\u001b[0m\n\u001b[0;32m--> 904\u001b[0;31m                 \u001b[0;32mraise\u001b[0m \u001b[0mKeyboardInterrupt\u001b[0m\u001b[0;34m(\u001b[0m\u001b[0;34m\"Interrupted by user\"\u001b[0m\u001b[0;34m)\u001b[0m \u001b[0;32mfrom\u001b[0m \u001b[0;32mNone\u001b[0m\u001b[0;34m\u001b[0m\u001b[0;34m\u001b[0m\u001b[0m\n\u001b[0m\u001b[1;32m    905\u001b[0m             \u001b[0;32mexcept\u001b[0m \u001b[0mException\u001b[0m \u001b[0;32mas\u001b[0m \u001b[0me\u001b[0m\u001b[0;34m:\u001b[0m\u001b[0;34m\u001b[0m\u001b[0;34m\u001b[0m\u001b[0m\n\u001b[1;32m    906\u001b[0m                 \u001b[0mself\u001b[0m\u001b[0;34m.\u001b[0m\u001b[0mlog\u001b[0m\u001b[0;34m.\u001b[0m\u001b[0mwarning\u001b[0m\u001b[0;34m(\u001b[0m\u001b[0;34m\"Invalid Message:\"\u001b[0m\u001b[0;34m,\u001b[0m \u001b[0mexc_info\u001b[0m\u001b[0;34m=\u001b[0m\u001b[0;32mTrue\u001b[0m\u001b[0;34m)\u001b[0m\u001b[0;34m\u001b[0m\u001b[0;34m\u001b[0m\u001b[0m\n",
            "\u001b[0;31mKeyboardInterrupt\u001b[0m: Interrupted by user"
          ]
        }
      ]
    },
    {
      "cell_type": "markdown",
      "source": [
        "### Log into FOLIO\n",
        "We will use the FolioClient module to make requets to FOLIO."
      ],
      "metadata": {
        "id": "cEEZ5U8uQ-I_"
      }
    },
    {
      "cell_type": "code",
      "source": [
        "# This will log us into FOLIO, and temporarily store important information like the token in the background\n",
        "try:\n",
        "  folio_client = FolioClient(okapi_url, tenant_id, username, password)\n",
        "  print(f\"Successfully logged into FOLIO as user {username}\")\n",
        "except Exception as e:\n",
        "  print(e)"
      ],
      "metadata": {
        "id": "NcSqYML0QmZU"
      },
      "execution_count": null,
      "outputs": []
    },
    {
      "cell_type": "markdown",
      "source": [
        "## Design the search query\n",
        "This is the part where you specify what data you want to get from FOLIO."
      ],
      "metadata": {
        "id": "9OthLRJ13Vte"
      }
    },
    {
      "cell_type": "markdown",
      "source": [
        "### Endpoint, object and page size\n",
        "Specify the endpoint you want to search, what objects you expect to get back, and an appropriate page size.\n",
        "\n",
        "Appropriate page size varies by endpoint. For /inventory/items the maximum is around 100, but for /item-storage/items you can get tens of thousands of records at a time."
      ],
      "metadata": {
        "id": "vwfbXE5yqsLH"
      }
    },
    {
      "cell_type": "code",
      "source": [
        "endpoint = \"/inventory/items\"\n",
        "record_type = \"items\"\n",
        "page_size = \"100\"\n",
        "query = \"?query=effectiveLocationId==\""
      ],
      "metadata": {
        "id": "IWqL2MWhqrfR"
      },
      "execution_count": null,
      "outputs": []
    },
    {
      "cell_type": "markdown",
      "source": [
        "### Select locations to work with\n",
        "One way to do this is to search by code/name, or recurring patterns or prefixes in the code/name."
      ],
      "metadata": {
        "id": "NAeGVqZikqRz"
      }
    },
    {
      "cell_type": "code",
      "source": [
        "# Get all the locations you have in FOLO\n",
        "all_locations = pandas.json_normalize(folio_client.locations)[[\"code\", \"name\", \"id\"]]\n",
        "print(f\"Found {len(all_locations)} locations in total.\")"
      ],
      "metadata": {
        "id": "zT2matak5zob"
      },
      "execution_count": null,
      "outputs": []
    },
    {
      "cell_type": "code",
      "source": [
        "# Specify a location code prefix which identifies the locations you want to fetch\n",
        "location_code_prefix = \"UC/HP/SPCL/Mss\""
      ],
      "metadata": {
        "id": "JzACWjib4cLY"
      },
      "execution_count": null,
      "outputs": []
    },
    {
      "cell_type": "code",
      "source": [
        "# Select the locations where the code starts with the code prefix\n",
        "selected_locations = all_locations.loc[all_locations[\"code\"].str.startswith(location_code_prefix)]\n",
        "selected_locations = selected_locations.to_dict(\"records\")\n",
        "print(f\"Found {len(selected_locations)} locations where the code starts with the pattern {location_code_prefix}\")"
      ],
      "metadata": {
        "id": "zD1bA7Sok26C"
      },
      "execution_count": null,
      "outputs": []
    },
    {
      "cell_type": "markdown",
      "source": [
        "## Get the item data from FOLIO\n",
        "This is where you actually fetch the data from FOLIO. \n",
        "\n",
        "If your question is quite simple, and only requires you to interact with one API, you can do this with one query as in the example below.\n",
        "* What are the titles and barcodes of all the items with this effective location?\n",
        "\n",
        "An example of a more compelx question, which requires queries to multiple APIs, could be\n",
        "* What are the names of all users who have ever borrowed a book from x location?"
      ],
      "metadata": {
        "id": "6BGqAAxx1Dha"
      }
    },
    {
      "cell_type": "markdown",
      "source": [
        "### Fecth all the items which match your query"
      ],
      "metadata": {
        "id": "pL0HJkKr0lMf"
      }
    },
    {
      "cell_type": "code",
      "source": [
        "# Create an empty list. This is the basket where you will store retrieved items.\n",
        "data = []\n",
        "\n",
        "# For each of the locations that you have selected, do the following\n",
        "for location in selected_locations:\n",
        "  \n",
        "  # Complete your query UUID to your query\n",
        "  print(f\"Fetching items with location code {location['code']}\")\n",
        "  query_with_uuid = query + location['id']\n",
        "\n",
        "  # Fecth all the results from FOLIO, in batches of whatever your page size is\n",
        "  for i, record in enumerate(folio_client.folio_get_all(\n",
        "      path = endpoint, key = record_type, limit = int(page_size))):\n",
        "    \n",
        "    # Put the results in the basket \n",
        "    data.append(record)\n",
        "\n",
        "    # Print out progress\n",
        "    page_number = int(i / int(page_size))\n",
        "    if (i > 0) and i % int(page_size) == 0:\n",
        "        print(f\"Fecthed {i} records in {page_number} pages.\")\n",
        "\n",
        "  print(f\"Done! Fetched {i+1} records in {page_number + 1} pages.\\n\")"
      ],
      "metadata": {
        "id": "a_CA7wxTppQi"
      },
      "execution_count": null,
      "outputs": []
    },
    {
      "cell_type": "markdown",
      "source": [
        "## Work with the data\n",
        "There is a lot you can do here: create different tables based on various critera, analyse the content of the data, rename headers, change the content of the data."
      ],
      "metadata": {
        "id": "Mmpch6bd08qw"
      }
    },
    {
      "cell_type": "markdown",
      "source": [
        "### Read the item data into a dataframe and inspect it\n",
        "A dataframe is a table-like structure similar to what you might be used working with in for example Excel."
      ],
      "metadata": {
        "id": "EA7qJLql03G4"
      }
    },
    {
      "cell_type": "code",
      "source": [
        "  # Read the json data into a dataframe\n",
        "  df = pandas.json_normalize(data)\n",
        "\n",
        "  # Inspect the headers in the dataframe\n",
        "  df.info()"
      ],
      "metadata": {
        "id": "RnskccTCVSUe"
      },
      "execution_count": null,
      "outputs": []
    },
    {
      "cell_type": "code",
      "source": [
        "  # Look at the first two rows in the dataframe\n",
        "  df.head(2)"
      ],
      "metadata": {
        "id": "LUtCz27o7m8H"
      },
      "execution_count": null,
      "outputs": []
    },
    {
      "cell_type": "markdown",
      "source": [
        "### Create a custom dataframe containing only the columns you want"
      ],
      "metadata": {
        "id": "aVGdyZj07pKZ"
      }
    },
    {
      "cell_type": "code",
      "source": [
        "  # Create a new dataframe, stock_list, with the specified columns\n",
        "  stock_list = df[[\"effectiveLocation.name\",\"callNumber\", \"title\", \"materialType.name\", \"status.name\", \"status.date\", \"lastCheckIn.dateTime\"]]\n",
        "\n",
        "  # Inspect the first two rows of the new dataframe\n",
        "  stock_list.head(2)"
      ],
      "metadata": {
        "id": "dt8HI1RJW-f6"
      },
      "execution_count": null,
      "outputs": []
    },
    {
      "cell_type": "markdown",
      "source": [
        "## Print your custom dataframe to an Excel file\n",
        "You can download the file to your local computer (as below) or save it to for example Google Drive.\n",
        "You can read more about file storage at https://colab.research.google.com/notebooks/io.ipynb#scrollTo=k9q0pp33dckN"
      ],
      "metadata": {
        "id": "ByXW1yrY724b"
      }
    },
    {
      "cell_type": "code",
      "source": [
        "# Create a Pandas Excel writer using XlsxWriter as the engine\n",
        "writer = pandas.ExcelWriter(\"stock_lists.xlsx\", engine=\"xlsxwriter\")\n",
        "\n",
        "# For each unique item location, create a separate sheet in the same workbook\n",
        "for location in selected_locations:\n",
        "  \n",
        "  # Replace slashes with dashes to comply with Excel naming rules\n",
        "  formatted_location_name = location[\"name\"].replace(\"/\", \"-\")\n",
        "  \n",
        "  # Create a dataframe containing the items with this location\n",
        "  df_per_location = stock_list.loc[stock_list[\"effectiveLocation.name\"] == location[\"name\"]]\n",
        "\n",
        "  df_per_location.to_excel(\n",
        "      writer, \n",
        "      sheet_name=formatted_location_name, \n",
        "      encoding = 'utf-8-sig',\n",
        "      index=False)\n",
        "\n",
        "# Close the Pandas Excel writer and download the Excel file\n",
        "writer.save()\n",
        "\n",
        "# Download the file\n",
        "files.download('stock_lists.xlsx')\n"
      ],
      "metadata": {
        "id": "7PNifnnuUIfG"
      },
      "execution_count": null,
      "outputs": []
    }
  ]
}