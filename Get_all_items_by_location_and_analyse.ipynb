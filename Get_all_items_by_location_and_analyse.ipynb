{
  "cells": [
    {
      "cell_type": "markdown",
      "metadata": {
        "id": "uzq7dzVGtKf3"
      },
      "source": [
        "# Get all items by location, analyse and save to Excel\n",
        "\n",
        "This notebook fecthes all items for a range of locations and saves slected fields to a multi-sheet Excel spreadsheet where items are distributed into separate sheets by location."
      ]
    },
    {
      "cell_type": "markdown",
      "metadata": {
        "id": "IEqMCq1l1Mio"
      },
      "source": [
        "## Preparations"
      ]
    },
    {
      "cell_type": "markdown",
      "metadata": {
        "id": "UZqGFlEU1Tlc"
      },
      "source": [
        "### Install modules\n",
        "Most modules that we will use are already installed on Google Colab. The below we need to actively install."
      ]
    },
    {
      "cell_type": "code",
      "execution_count": null,
      "metadata": {
        "colab": {
          "base_uri": "https://localhost:8080/"
        },
        "id": "3ieL4TvuJf8T",
        "outputId": "9fc34687-aa7d-47de-ff1c-49cc303bd1ed"
      },
      "outputs": [],
      "source": [
        "# We will use folioclient to communicate with FOLIO: https://pypi.org/project/folioclient/\n",
        "\n",
        "!pip install folioclient"
      ]
    },
    {
      "cell_type": "code",
      "execution_count": null,
      "metadata": {
        "colab": {
          "base_uri": "https://localhost:8080/"
        },
        "id": "d-PUpoyly20S",
        "outputId": "2157e40a-d773-4d10-ce1b-6808b713f788"
      },
      "outputs": [],
      "source": [
        "# We will use xlsxwriter to create Excel files: https://pypi.org/project/XlsxWriter/ \n",
        "\n",
        "!pip install xlsxwriter"
      ]
    },
    {
      "cell_type": "markdown",
      "metadata": {
        "id": "L8tBfrAE1lWH"
      },
      "source": [
        "### Import modules\n",
        "Modules that are installed need to be imported, so that we can access them in our code."
      ]
    },
    {
      "cell_type": "code",
      "execution_count": null,
      "metadata": {
        "id": "CjzimUZqDf39"
      },
      "outputs": [],
      "source": [
        "import pandas\n",
        "from pandas import json_normalize\n",
        "from folioclient import FolioClient\n",
        "from getpass import getpass\n",
        "from google.colab import files"
      ]
    },
    {
      "cell_type": "markdown",
      "metadata": {
        "id": "Er-4h3Ql1uHJ"
      },
      "source": [
        "## Connect to FOLIO\n",
        "We log into FOLIO by providing the okapi URL and the tenant ID, as well as the username and password of a FOLIO user. FOLIO will return a token which contains information about which user we are acting as, and what permissions that user has.\n",
        "\n",
        "Note that tokens and passwords are sensitive data which should always be kept secret and secure."
      ]
    },
    {
      "cell_type": "markdown",
      "metadata": {
        "id": "br2a7ABsQmJA"
      },
      "source": [
        "### Provide tenant information and credentials"
      ]
    },
    {
      "cell_type": "code",
      "execution_count": null,
      "metadata": {
        "colab": {
          "base_uri": "https://localhost:8080/",
          "height": 414
        },
        "id": "OvJQd36qQrvu",
        "outputId": "a6a1d3c4-dbed-41c0-f4f7-3d14d40b449f"
      },
      "outputs": [],
      "source": [
        "okapi_url = input(\"Enter your okapi URL here: \")\n",
        "tenant_id = input(\"Enter your tenant ID here: \")\n",
        "\n",
        "# The getpass module lets us enter credentials at runtime\n",
        "username = getpass('Enter usernme here: ')\n",
        "password = getpass('Enter password here: ')\n"
      ]
    },
    {
      "cell_type": "markdown",
      "metadata": {
        "id": "cEEZ5U8uQ-I_"
      },
      "source": [
        "### Log into FOLIO\n",
        "We will use the FolioClient module to make requets to FOLIO."
      ]
    },
    {
      "cell_type": "code",
      "execution_count": null,
      "metadata": {
        "id": "NcSqYML0QmZU"
      },
      "outputs": [],
      "source": [
        "# This will log us into FOLIO, and temporarily store important information like the token in the background\n",
        "try:\n",
        "  folio_client = FolioClient(okapi_url, tenant_id, username, password)\n",
        "  print(f\"Successfully logged into FOLIO as user {username}\")\n",
        "except Exception as e:\n",
        "  print(e)"
      ]
    },
    {
      "cell_type": "markdown",
      "metadata": {
        "id": "9OthLRJ13Vte"
      },
      "source": [
        "## Design the search query\n",
        "This is the part where you specify what data you want to get from FOLIO."
      ]
    },
    {
      "cell_type": "markdown",
      "metadata": {
        "id": "vwfbXE5yqsLH"
      },
      "source": [
        "### Endpoint, object and page size\n",
        "Specify the endpoint you want to search, what objects you expect to get back, and an appropriate page size.\n",
        "\n",
        "Appropriate page size varies by endpoint. For /inventory/items the maximum is around 100, but for /item-storage/items you can get tens of thousands of records at a time."
      ]
    },
    {
      "cell_type": "code",
      "execution_count": null,
      "metadata": {
        "id": "IWqL2MWhqrfR"
      },
      "outputs": [],
      "source": [
        "endpoint = \"/inventory/items\"\n",
        "record_type = \"items\"\n",
        "page_size = \"100\"\n",
        "query = \"?query=effectiveLocationId==\""
      ]
    },
    {
      "cell_type": "markdown",
      "metadata": {
        "id": "NAeGVqZikqRz"
      },
      "source": [
        "### Select locations to work with\n",
        "One way to do this is to search by code/name, or recurring patterns or prefixes in the code/name."
      ]
    },
    {
      "cell_type": "code",
      "execution_count": null,
      "metadata": {
        "id": "zT2matak5zob"
      },
      "outputs": [],
      "source": [
        "# Get all the locations you have in FOLO\n",
        "all_locations = pandas.json_normalize(folio_client.locations)[[\"code\", \"name\", \"id\"]]\n",
        "print(f\"Found {len(all_locations)} locations in total.\")"
      ]
    },
    {
      "cell_type": "code",
      "execution_count": null,
      "metadata": {
        "id": "JzACWjib4cLY"
      },
      "outputs": [],
      "source": [
        "# Specify a location code prefix which identifies the locations you want to fetch\n",
        "location_code_prefix = \"UC/HP/SPCL/Mss\""
      ]
    },
    {
      "cell_type": "code",
      "execution_count": null,
      "metadata": {
        "id": "zD1bA7Sok26C"
      },
      "outputs": [],
      "source": [
        "# Select the locations where the code starts with the code prefix\n",
        "selected_locations = all_locations.loc[all_locations[\"code\"].str.startswith(location_code_prefix)]\n",
        "selected_locations = selected_locations.to_dict(\"records\")\n",
        "print(f\"Found {len(selected_locations)} locations where the code starts with the pattern {location_code_prefix}\")"
      ]
    },
    {
      "cell_type": "markdown",
      "metadata": {
        "id": "6BGqAAxx1Dha"
      },
      "source": [
        "## Get the item data from FOLIO\n",
        "This is where you actually fetch the data from FOLIO. \n",
        "\n",
        "If your question is quite simple, and only requires you to interact with one API, you can do this with one query as in the example below.\n",
        "* What are the titles and barcodes of all the items with this effective location?\n",
        "\n",
        "An example of a more compelx question, which requires queries to multiple APIs, could be\n",
        "* What are the names of all users who have ever borrowed a book from x location?"
      ]
    },
    {
      "cell_type": "markdown",
      "metadata": {
        "id": "pL0HJkKr0lMf"
      },
      "source": [
        "### Fecth all the items which match your query"
      ]
    },
    {
      "cell_type": "code",
      "execution_count": null,
      "metadata": {
        "id": "a_CA7wxTppQi"
      },
      "outputs": [],
      "source": [
        "# Create an empty list. This is the basket where you will store retrieved items.\n",
        "data = []\n",
        "\n",
        "# For each of the locations that you have selected, do the following\n",
        "for location in selected_locations:\n",
        "  \n",
        "  # Complete your query UUID to your query\n",
        "  print(f\"Fetching items with location code {location['code']}\")\n",
        "  query_with_uuid = query + location['id']\n",
        "\n",
        "  # Fecth all the results from FOLIO, in batches of whatever your page size is\n",
        "  for i, record in enumerate(folio_client.folio_get_all(\n",
        "      path = endpoint, key = record_type, limit = int(page_size))):\n",
        "    \n",
        "    # Put the results in the basket \n",
        "    data.append(record)\n",
        "\n",
        "    # Print out progress\n",
        "    page_number = int(i / int(page_size))\n",
        "    if (i > 0) and i % int(page_size) == 0:\n",
        "        print(f\"Fecthed {i} records in {page_number} pages.\")\n",
        "\n",
        "  print(f\"Done! Fetched {i+1} records in {page_number + 1} pages.\\n\")"
      ]
    },
    {
      "cell_type": "markdown",
      "metadata": {
        "id": "Mmpch6bd08qw"
      },
      "source": [
        "## Work with the data\n",
        "There is a lot you can do here: create different tables based on various critera, analyse the content of the data, rename headers, change the content of the data."
      ]
    },
    {
      "cell_type": "markdown",
      "metadata": {
        "id": "EA7qJLql03G4"
      },
      "source": [
        "### Read the item data into a dataframe and inspect it\n",
        "A dataframe is a table-like structure similar to what you might be used working with in for example Excel."
      ]
    },
    {
      "cell_type": "code",
      "execution_count": null,
      "metadata": {
        "id": "RnskccTCVSUe"
      },
      "outputs": [],
      "source": [
        "  # Read the json data into a dataframe\n",
        "  df = pandas.json_normalize(data)\n",
        "\n",
        "  # Inspect the headers in the dataframe\n",
        "  df.info()"
      ]
    },
    {
      "cell_type": "code",
      "execution_count": null,
      "metadata": {
        "id": "LUtCz27o7m8H"
      },
      "outputs": [],
      "source": [
        "  # Look at the first two rows in the dataframe\n",
        "  df.head(2)"
      ]
    },
    {
      "cell_type": "markdown",
      "metadata": {
        "id": "aVGdyZj07pKZ"
      },
      "source": [
        "### Create a custom dataframe containing only the columns you want"
      ]
    },
    {
      "cell_type": "code",
      "execution_count": null,
      "metadata": {
        "id": "dt8HI1RJW-f6"
      },
      "outputs": [],
      "source": [
        "  # Create a new dataframe, stock_list, with the specified columns\n",
        "  stock_list = df[[\"effectiveLocation.name\",\"callNumber\", \"title\", \"materialType.name\", \"status.name\", \"status.date\", \"lastCheckIn.dateTime\"]]\n",
        "\n",
        "  # Inspect the first two rows of the new dataframe\n",
        "  stock_list.head(2)"
      ]
    },
    {
      "cell_type": "markdown",
      "metadata": {
        "id": "ByXW1yrY724b"
      },
      "source": [
        "## Print your custom dataframe to an Excel file\n",
        "You can download the file to your local computer (as below) or save it to for example Google Drive.\n",
        "You can read more about file storage at https://colab.research.google.com/notebooks/io.ipynb#scrollTo=k9q0pp33dckN"
      ]
    },
    {
      "cell_type": "code",
      "execution_count": null,
      "metadata": {
        "id": "7PNifnnuUIfG"
      },
      "outputs": [],
      "source": [
        "# Create a Pandas Excel writer using XlsxWriter as the engine\n",
        "writer = pandas.ExcelWriter(\"stock_lists.xlsx\", engine=\"xlsxwriter\")\n",
        "\n",
        "# For each unique item location, create a separate sheet in the same workbook\n",
        "for location in selected_locations:\n",
        "  \n",
        "  # Replace slashes with dashes to comply with Excel naming rules\n",
        "  formatted_location_name = location[\"name\"].replace(\"/\", \"-\")\n",
        "  \n",
        "  # Create a dataframe containing the items with this location\n",
        "  df_per_location = stock_list.loc[stock_list[\"effectiveLocation.name\"] == location[\"name\"]]\n",
        "\n",
        "  df_per_location.to_excel(\n",
        "      writer, \n",
        "      sheet_name=formatted_location_name, \n",
        "      encoding = 'utf-8-sig',\n",
        "      index=False)\n",
        "\n",
        "# Close the Pandas Excel writer and download the Excel file\n",
        "writer.save()\n",
        "\n",
        "# Download the file\n",
        "files.download('stock_lists.xlsx')\n"
      ]
    }
  ],
  "metadata": {
    "colab": {
      "collapsed_sections": [
        "L8tBfrAE1lWH"
      ],
      "provenance": []
    },
    "kernelspec": {
      "display_name": "Python 3",
      "name": "python3"
    },
    "language_info": {
      "name": "python"
    }
  },
  "nbformat": 4,
  "nbformat_minor": 0
}
